{
 "cells": [
  {
   "cell_type": "code",
   "execution_count": 20,
   "metadata": {
    "collapsed": true
   },
   "outputs": [],
   "source": [
    "import Algorithmia\n",
    "\n",
    "client = Algorithmia.client(\"simESp4hdP+ACUb4zBKV8oxI71l1\")"
   ]
  },
  {
   "cell_type": "code",
   "execution_count": 21,
   "metadata": {
    "collapsed": true
   },
   "outputs": [],
   "source": [
    "def get_images():\n",
    "    \"\"\"Create labeled dataset from data collection.\"\"\"\n",
    "    image_dir = client.dir(\"data://sumi25/faces_Produce_101/\")\n",
    "    images = []\n",
    "    # Retrieve images from data collection.\n",
    "    for file in image_dir.list():\n",
    "        if image_dir.exists():\n",
    "#             path = file.path.split('/')\n",
    "#             first_name = file.path.split('_')[0].split('/')[1]\n",
    "#             last_name = path[3]\n",
    "            name = file.path.split('/')[2].split('_')[0]\n",
    "            # Create label from image name.\n",
    "#             label = first_name + \" \" + last_name\n",
    "            # Label image based on celebrity.\n",
    "            images.append(\n",
    "                {\"url\": \"data://{0}\".format(file.path), \"person\": name})\n",
    "        else:\n",
    "            image_dir.create()\n",
    "    return images"
   ]
  },
  {
   "cell_type": "code",
   "execution_count": 25,
   "metadata": {
    "collapsed": true
   },
   "outputs": [],
   "source": [
    "def train_images():\n",
    "    \"\"\"Train images from celebrity pictures.\"\"\"\n",
    "    images = get_images()\n",
    "    input = {\"action\": \"add_images\",\n",
    "             \"data_collection\": \"Produce101Classifiers\",\n",
    "             \"name_space\": \"Produce101\",\n",
    "             \"images\": img_json\n",
    "             }\n",
    "    algo = client.algo('cv/FaceRecognition/0.2.0')\n",
    "    print(algo.pipe(input))"
   ]
  },
  {
   "cell_type": "code",
   "execution_count": 26,
   "metadata": {
    "collapsed": false
   },
   "outputs": [],
   "source": [
    "def get_predicted():\n",
    "    \"\"\"Predict unseen images as a celebrity the model was trained on.\"\"\"\n",
    "    input = {\n",
    "        \"name_space\": \"Produce101\",\n",
    "        \"data_collection\": \"Produce101Classifiers\",\n",
    "        \"action\": \"predict\",\n",
    "        \"images\": [\n",
    "            {\n",
    "                \"url\": \"data://sumi25/faces_Produce_101/152759386601044dc1a6917.jpeg\",\n",
    "                \"output\": \"data://sumi25/faces_Produce_101/test_output.jpeg\"\n",
    "            }\n",
    "        ]\n",
    "    }\n",
    "    algo = client.algo('cv/FaceRecognition/0.2.0')\n",
    "    print(algo.pipe(input))\n",
    "    print(client.algo(\"cv/FaceRecognition/0.2.0\").pipe(input3).result)\n"
   ]
  },
  {
   "cell_type": "code",
   "execution_count": 27,
   "metadata": {
    "collapsed": false
   },
   "outputs": [
    {
     "name": "stdout",
     "output_type": "stream",
     "text": [
      "AlgoResponse(result={'result': 'success'},metadata=Metadata(content_type='json',duration=126.140668644,stdout=None))\n"
     ]
    },
    {
     "ename": "AlgorithmException",
     "evalue": "'Expected 2D array, got 1D array instead:\\narray=[ 0.07735218  0.15878919 -0.00468619  0.15303756 -0.05506128  0.00256021\\n  0.0480968  -0.02424571  0.01500355 -0.02634237  0.16259815 -0.02770286\\n  0.08803268 -0.10453053 -0.03341785 -0.03482325 -0.0200404   0.06503256\\n -0.14492288  0.12315831  0.0749439  -0.12371957  0.02797391 -0.01440437\\n  0.0184913  -0.24785352 -0.14529179 -0.03921829 -0.07343271  0.11635295\\n -0.03406543 -0.01284009  0.01366219  0.07886054 -0.02337117 -0.02788633\\n -0.02008186 -0.00524295 -0.07319251  0.00043806 -0.06424444 -0.10123908\\n  0.00241847  0.03489999 -0.05849147 -0.03176646  0.02544565 -0.00898031\\n -0.04009689  0.15749864  0.08700987  0.05374751 -0.16347498  0.03100707\\n -0.04640445 -0.05176176 -0.07921016 -0.15646793  0.04833143  0.0584735\\n -0.02245158 -0.06459399 -0.05338287 -0.09512049  0.01240876 -0.14338104\\n  0.02806159 -0.09092855 -0.12313917 -0.00055299  0.05963792  0.01086802\\n  0.0275019   0.00709036 -0.05657734 -0.02253007  0.05771153  0.01918519\\n -0.05448304  0.14988916 -0.06762446 -0.19314498 -0.07011273  0.03348158\\n -0.04627344  0.2009187  -0.07003937 -0.17960259  0.00421263  0.02129935\\n -0.07109698 -0.1627713  -0.02657602 -0.07077193 -0.1175783  -0.12933128\\n -0.0825773  -0.03753319 -0.02860205 -0.0032979  -0.00535648  0.11377589\\n  0.0510379   0.06430095  0.09944156  0.02649573  0.07002094  0.25190869\\n  0.04716891  0.0324454  -0.14450614 -0.060563   -0.07630093  0.02963737\\n -0.07707445 -0.01121824  0.08275717  0.06726462  0.0462915   0.11038404\\n -0.09713113  0.0461181  -0.09091815  0.20174344  0.17384143 -0.08972359\\n  0.11801159  0.03569879].\\nReshape your data either using array.reshape(-1, 1) if your data has a single feature or array.reshape(1, -1) if it contains a single sample.'",
     "output_type": "error",
     "traceback": [
      "\u001b[0;31m---------------------------------------------------------------------------\u001b[0m",
      "\u001b[0;31mAlgorithmException\u001b[0m                        Traceback (most recent call last)",
      "\u001b[0;32m<ipython-input-27-927b42b4c506>\u001b[0m in \u001b[0;36m<module>\u001b[0;34m()\u001b[0m\n\u001b[1;32m      2\u001b[0m \u001b[0;31m#     img_json = get_images()\u001b[0m\u001b[0;34m\u001b[0m\u001b[0;34m\u001b[0m\u001b[0m\n\u001b[1;32m      3\u001b[0m     \u001b[0mtrain_images\u001b[0m\u001b[0;34m(\u001b[0m\u001b[0;34m)\u001b[0m\u001b[0;34m\u001b[0m\u001b[0m\n\u001b[0;32m----> 4\u001b[0;31m     \u001b[0mget_predicted\u001b[0m\u001b[0;34m(\u001b[0m\u001b[0;34m)\u001b[0m\u001b[0;34m\u001b[0m\u001b[0m\n\u001b[0m",
      "\u001b[0;32m<ipython-input-26-761a6725c015>\u001b[0m in \u001b[0;36mget_predicted\u001b[0;34m()\u001b[0m\n\u001b[1;32m     13\u001b[0m     }\n\u001b[1;32m     14\u001b[0m     \u001b[0malgo\u001b[0m \u001b[0;34m=\u001b[0m \u001b[0mclient\u001b[0m\u001b[0;34m.\u001b[0m\u001b[0malgo\u001b[0m\u001b[0;34m(\u001b[0m\u001b[0;34m'cv/FaceRecognition/0.2.0'\u001b[0m\u001b[0;34m)\u001b[0m\u001b[0;34m\u001b[0m\u001b[0m\n\u001b[0;32m---> 15\u001b[0;31m     \u001b[0mprint\u001b[0m\u001b[0;34m(\u001b[0m\u001b[0malgo\u001b[0m\u001b[0;34m.\u001b[0m\u001b[0mpipe\u001b[0m\u001b[0;34m(\u001b[0m\u001b[0minput\u001b[0m\u001b[0;34m)\u001b[0m\u001b[0;34m)\u001b[0m\u001b[0;34m\u001b[0m\u001b[0m\n\u001b[0m\u001b[1;32m     16\u001b[0m     \u001b[0mprint\u001b[0m\u001b[0;34m(\u001b[0m\u001b[0mclient\u001b[0m\u001b[0;34m.\u001b[0m\u001b[0malgo\u001b[0m\u001b[0;34m(\u001b[0m\u001b[0;34m\"cv/FaceRecognition/0.2.0\"\u001b[0m\u001b[0;34m)\u001b[0m\u001b[0;34m.\u001b[0m\u001b[0mpipe\u001b[0m\u001b[0;34m(\u001b[0m\u001b[0minput3\u001b[0m\u001b[0;34m)\u001b[0m\u001b[0;34m.\u001b[0m\u001b[0mresult\u001b[0m\u001b[0;34m)\u001b[0m\u001b[0;34m\u001b[0m\u001b[0m\n",
      "\u001b[0;32m//anaconda/envs/python3/lib/python3.5/site-packages/Algorithmia/algorithm.py\u001b[0m in \u001b[0;36mpipe\u001b[0;34m(self, input1)\u001b[0m\n\u001b[1;32m     38\u001b[0m             \u001b[0;32mreturn\u001b[0m \u001b[0mself\u001b[0m\u001b[0;34m.\u001b[0m\u001b[0m_postVoidOutput\u001b[0m\u001b[0;34m(\u001b[0m\u001b[0minput1\u001b[0m\u001b[0;34m)\u001b[0m\u001b[0;34m\u001b[0m\u001b[0m\n\u001b[1;32m     39\u001b[0m         \u001b[0;32melse\u001b[0m\u001b[0;34m:\u001b[0m\u001b[0;34m\u001b[0m\u001b[0m\n\u001b[0;32m---> 40\u001b[0;31m             \u001b[0;32mreturn\u001b[0m \u001b[0mAlgoResponse\u001b[0m\u001b[0;34m.\u001b[0m\u001b[0mcreate_algo_response\u001b[0m\u001b[0;34m(\u001b[0m\u001b[0mself\u001b[0m\u001b[0;34m.\u001b[0m\u001b[0mclient\u001b[0m\u001b[0;34m.\u001b[0m\u001b[0mpostJsonHelper\u001b[0m\u001b[0;34m(\u001b[0m\u001b[0mself\u001b[0m\u001b[0;34m.\u001b[0m\u001b[0murl\u001b[0m\u001b[0;34m,\u001b[0m \u001b[0minput1\u001b[0m\u001b[0;34m,\u001b[0m \u001b[0;34m**\u001b[0m\u001b[0mself\u001b[0m\u001b[0;34m.\u001b[0m\u001b[0mquery_parameters\u001b[0m\u001b[0;34m)\u001b[0m\u001b[0;34m)\u001b[0m\u001b[0;34m\u001b[0m\u001b[0m\n\u001b[0m\u001b[1;32m     41\u001b[0m \u001b[0;34m\u001b[0m\u001b[0m\n\u001b[1;32m     42\u001b[0m     \u001b[0;32mdef\u001b[0m \u001b[0m_postRawOutput\u001b[0m\u001b[0;34m(\u001b[0m\u001b[0mself\u001b[0m\u001b[0;34m,\u001b[0m \u001b[0minput1\u001b[0m\u001b[0;34m)\u001b[0m\u001b[0;34m:\u001b[0m\u001b[0;34m\u001b[0m\u001b[0m\n",
      "\u001b[0;32m//anaconda/envs/python3/lib/python3.5/site-packages/Algorithmia/algo_response.py\u001b[0m in \u001b[0;36mcreate_algo_response\u001b[0;34m(responseJson)\u001b[0m\n\u001b[1;32m     15\u001b[0m         \u001b[0;32mif\u001b[0m \u001b[0;34m'error'\u001b[0m \u001b[0;32min\u001b[0m \u001b[0mresponseJson\u001b[0m\u001b[0;34m:\u001b[0m\u001b[0;34m\u001b[0m\u001b[0m\n\u001b[1;32m     16\u001b[0m             \u001b[0;31m# Failure\u001b[0m\u001b[0;34m\u001b[0m\u001b[0;34m\u001b[0m\u001b[0m\n\u001b[0;32m---> 17\u001b[0;31m             \u001b[0;32mraise\u001b[0m \u001b[0mparse_exception\u001b[0m\u001b[0;34m(\u001b[0m\u001b[0mresponseJson\u001b[0m\u001b[0;34m[\u001b[0m\u001b[0;34m'error'\u001b[0m\u001b[0;34m]\u001b[0m\u001b[0;34m)\u001b[0m\u001b[0;34m\u001b[0m\u001b[0m\n\u001b[0m\u001b[1;32m     18\u001b[0m         \u001b[0;32melse\u001b[0m\u001b[0;34m:\u001b[0m\u001b[0;34m\u001b[0m\u001b[0m\n\u001b[1;32m     19\u001b[0m             \u001b[0mmetadata\u001b[0m \u001b[0;34m=\u001b[0m \u001b[0mMetadata\u001b[0m\u001b[0;34m(\u001b[0m\u001b[0mresponseJson\u001b[0m\u001b[0;34m[\u001b[0m\u001b[0;34m'metadata'\u001b[0m\u001b[0;34m]\u001b[0m\u001b[0;34m)\u001b[0m\u001b[0;34m\u001b[0m\u001b[0m\n",
      "\u001b[0;31mAlgorithmException\u001b[0m: 'Expected 2D array, got 1D array instead:\\narray=[ 0.07735218  0.15878919 -0.00468619  0.15303756 -0.05506128  0.00256021\\n  0.0480968  -0.02424571  0.01500355 -0.02634237  0.16259815 -0.02770286\\n  0.08803268 -0.10453053 -0.03341785 -0.03482325 -0.0200404   0.06503256\\n -0.14492288  0.12315831  0.0749439  -0.12371957  0.02797391 -0.01440437\\n  0.0184913  -0.24785352 -0.14529179 -0.03921829 -0.07343271  0.11635295\\n -0.03406543 -0.01284009  0.01366219  0.07886054 -0.02337117 -0.02788633\\n -0.02008186 -0.00524295 -0.07319251  0.00043806 -0.06424444 -0.10123908\\n  0.00241847  0.03489999 -0.05849147 -0.03176646  0.02544565 -0.00898031\\n -0.04009689  0.15749864  0.08700987  0.05374751 -0.16347498  0.03100707\\n -0.04640445 -0.05176176 -0.07921016 -0.15646793  0.04833143  0.0584735\\n -0.02245158 -0.06459399 -0.05338287 -0.09512049  0.01240876 -0.14338104\\n  0.02806159 -0.09092855 -0.12313917 -0.00055299  0.05963792  0.01086802\\n  0.0275019   0.00709036 -0.05657734 -0.02253007  0.05771153  0.01918519\\n -0.05448304  0.14988916 -0.06762446 -0.19314498 -0.07011273  0.03348158\\n -0.04627344  0.2009187  -0.07003937 -0.17960259  0.00421263  0.02129935\\n -0.07109698 -0.1627713  -0.02657602 -0.07077193 -0.1175783  -0.12933128\\n -0.0825773  -0.03753319 -0.02860205 -0.0032979  -0.00535648  0.11377589\\n  0.0510379   0.06430095  0.09944156  0.02649573  0.07002094  0.25190869\\n  0.04716891  0.0324454  -0.14450614 -0.060563   -0.07630093  0.02963737\\n -0.07707445 -0.01121824  0.08275717  0.06726462  0.0462915   0.11038404\\n -0.09713113  0.0461181  -0.09091815  0.20174344  0.17384143 -0.08972359\\n  0.11801159  0.03569879].\\nReshape your data either using array.reshape(-1, 1) if your data has a single feature or array.reshape(1, -1) if it contains a single sample.'"
     ]
    }
   ],
   "source": [
    "if __name__ == \"__main__\":\n",
    "#     img_json = get_images()\n",
    "    train_images()    \n",
    "    get_predicted()"
   ]
  },
  {
   "cell_type": "code",
   "execution_count": null,
   "metadata": {
    "collapsed": true
   },
   "outputs": [],
   "source": []
  }
 ],
 "metadata": {
  "kernelspec": {
   "display_name": "Python [conda env:python3]",
   "language": "python",
   "name": "conda-env-python3-py"
  },
  "language_info": {
   "codemirror_mode": {
    "name": "ipython",
    "version": 3
   },
   "file_extension": ".py",
   "mimetype": "text/x-python",
   "name": "python",
   "nbconvert_exporter": "python",
   "pygments_lexer": "ipython3",
   "version": "3.5.5"
  }
 },
 "nbformat": 4,
 "nbformat_minor": 1
}
