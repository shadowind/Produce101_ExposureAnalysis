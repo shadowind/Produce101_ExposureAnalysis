{
 "cells": [
  {
   "cell_type": "code",
   "execution_count": 4,
   "metadata": {
    "collapsed": false
   },
   "outputs": [],
   "source": [
    "import google_images_download"
   ]
  },
  {
   "cell_type": "code",
   "execution_count": 5,
   "metadata": {
    "collapsed": true
   },
   "outputs": [],
   "source": [
    "response = google_images_download.googleimagesdownload()"
   ]
  },
  {
   "cell_type": "code",
   "execution_count": null,
   "metadata": {
    "collapsed": true
   },
   "outputs": [],
   "source": [
    "names = [\"杨超越\",\"孟美岐\",\"吴宣仪\"]"
   ]
  },
  {
   "cell_type": "code",
   "execution_count": 14,
   "metadata": {
    "collapsed": false
   },
   "outputs": [
    {
     "name": "stdout",
     "output_type": "stream",
     "text": [
      "\n",
      "Item no.: 1 --> Item name = 杨超越\n",
      "Evaluating...\n",
      "Starting Download...\n",
      "Completed Image ====> 1. 77c15da949bfdd6bbac1dd6b3eb8cb84_wmk.jpeg\n",
      "Completed Image ====> 2. 0.jpg\n",
      "\n",
      "Errors: 0\n",
      "\n",
      "\n",
      "Item no.: 2 --> Item name = 孟美岐\n",
      "Evaluating...\n",
      "Starting Download...\n",
      "Completed Image ====> 1. 0497135c47b646589ed0a0996bdd9123.png\n",
      "Completed Image ====> 2. 0.jpg\n",
      "\n",
      "Errors: 0\n",
      "\n",
      "\n",
      "Item no.: 3 --> Item name = 吴宣仪\n",
      "Evaluating...\n",
      "Starting Download...\n",
      "Completed Image ====> 1. 12_154227_1.jpg\n",
      "Completed Image ====> 2. fdf9d7de5d.jpg\n",
      "\n",
      "Errors: 0\n",
      "\n"
     ]
    }
   ],
   "source": [
    "arguments = {\"keywords\":\"杨超越,孟美岐,吴宣仪\",\n",
    "             \"size\":'>640*480',\n",
    "             \"limit\":2,\n",
    "#              \"print_urls\":False,\n",
    "#              \"type\":'face',\n",
    "             \"output_directory\":'../image/raw_imgs2'}   #creating list of arguments\n",
    "paths = response.download(arguments)"
   ]
  },
  {
   "cell_type": "code",
   "execution_count": 16,
   "metadata": {
    "collapsed": false
   },
   "outputs": [
    {
     "data": {
      "text/plain": [
       "'3.5.5 | packaged by conda-forge | (default, Feb 13 2018, 05:40:31) \\n[GCC 4.2.1 Compatible Apple LLVM 6.1.0 (clang-602.0.53)]'"
      ]
     },
     "execution_count": 16,
     "metadata": {},
     "output_type": "execute_result"
    }
   ],
   "source": [
    "import sys\n",
    "sys.version"
   ]
  },
  {
   "cell_type": "code",
   "execution_count": null,
   "metadata": {
    "collapsed": true
   },
   "outputs": [],
   "source": []
  }
 ],
 "metadata": {
  "anaconda-cloud": {},
  "kernelspec": {
   "display_name": "Python [default]",
   "language": "python",
   "name": "python3"
  },
  "language_info": {
   "codemirror_mode": {
    "name": "ipython",
    "version": 3
   },
   "file_extension": ".py",
   "mimetype": "text/x-python",
   "name": "python",
   "nbconvert_exporter": "python",
   "pygments_lexer": "ipython3",
   "version": "3.5.5"
  }
 },
 "nbformat": 4,
 "nbformat_minor": 1
}
